{
 "cells": [
  {
   "cell_type": "markdown",
   "metadata": {},
   "source": [
    "Arbisoft is opening its new office in Germany and preparing to decorate the new office in a fun and colorful way. They used a repeating pattern of colorful balloons to make the office look amazing. These balloons came in three colors: orange, blue, and white, represented by the letters 'O', 'B', and 'W' respectively. The balloon pattern is like a magical melody that will play on a loop, giving the office a lively and enchanting aura.\n",
    "\n",
    "Decorating a large office space was no small task. To expedite the process, Arbisoft divided the office into sections, and different teams were responsible for decorating each section. Each team had a starting point and an ending point within the office. Now, the challenge was to distribute the right number of balloons to each team based on their assigned area and the balloon pattern.\n",
    "\n",
    "To solve this problem, Arbisoft sought the help of coding wizards like you. You will be provided with a pattern of balloons as a string like \"obbwwbbo\" and starting and ending index parameters specify the beginning and end points of the area each team is responsible for. Your job is to write a code that should tell us the number of balloons of each color needed for decoration within a specific range.\n",
    "\n",
    "Input:\n",
    "The input will be read from a file. The first line of the file will be the pattern. The second and third lines will be the starting and ending indexes respectively.\n",
    "\n",
    "Output:\n",
    "The output will be a lowercase string and the color order must be Blue, Orange, and then White along the number of balloons i.e. “b12o5w7”. \n",
    "\n",
    " \n",
    "\n",
    "NOTE:\n",
    "The index starts from 0.\n",
    "Starting & ending indexes are included.\n",
    "\n",
    "Constraints:\n",
    "The starting and ending indexes may either be equal to or fall within the range of 0 to 100,000,000.\n",
    "Ending index > starting index \n",
    "5 <= The length of the balloon pattern <= 15\n",
    "\n",
    " \n",
    "\n",
    "Sample 1 \n",
    "\n",
    "Input:\n",
    "bowbo\n",
    "7\n",
    "12\n",
    "\n",
    "Output:\n",
    "b2o2w2\n",
    "\n",
    "Sample 2 \n",
    "\n",
    "Input:\n",
    "owbowbob\n",
    "17\n",
    "48\n",
    "\n",
    "Output:\n",
    "b12o12w8\n",
    "\n",
    "Sample 3\n",
    "\n",
    "Input:\n",
    "obbo\n",
    "0\n",
    "6478\n",
    "\n",
    "Output:\n",
    "b3240o3239w0"
   ]
  },
  {
   "cell_type": "code",
   "execution_count": 1,
   "metadata": {},
   "outputs": [
    {
     "name": "stdout",
     "output_type": "stream",
     "text": [
      "b3240o3239w0\n"
     ]
    }
   ],
   "source": [
    "def count_balloons(pattern, start_index, end_index):\n",
    "    \"\"\"Counts the number of balloons of each color within a specified range.\n",
    "\n",
    "    Args:\n",
    "        pattern: A string representing the balloon pattern.\n",
    "        start_index: The starting index of the range (inclusive).\n",
    "        end_index: The ending index of the range (inclusive).\n",
    "\n",
    "    Returns:\n",
    "        A string containing the counts of blue, orange, and white balloons, in that order.\n",
    "    \"\"\"\n",
    "\n",
    "    balloon_counts = {\"b\": 0, \"o\": 0, \"w\": 0}\n",
    "    pattern_length = len(pattern)\n",
    "\n",
    "    for i in range(start_index, end_index + 1):\n",
    "        balloon_index = i % pattern_length\n",
    "        color = pattern[balloon_index]\n",
    "        balloon_counts[color] += 1\n",
    "\n",
    "    # Ensure consistent color order (blue, orange, white)\n",
    "    result = \"b{}o{}w{}\".format(balloon_counts[\"b\"], balloon_counts[\"o\"], balloon_counts[\"w\"])\n",
    "    return result\n",
    "\n",
    "# Read input from the file \"input.txt\"\n",
    "with open(\"input.txt\", \"r\") as file:\n",
    "    pattern = file.readline().strip()\n",
    "    start_index = int(file.readline().strip())\n",
    "    end_index = int(file.readline().strip())\n",
    "\n",
    "# Calculate and print the balloon counts\n",
    "balloon_counts = count_balloons(pattern, start_index, end_index)\n",
    "print(balloon_counts)"
   ]
  },
  {
   "cell_type": "code",
   "execution_count": null,
   "metadata": {},
   "outputs": [],
   "source": [
    "import sys\n",
    "\n",
    "# ... (rest of the code)\n",
    "\n",
    "if len(sys.argv) != 2:\n",
    "    print(\"Usage: python balloon_counter.py input_file.txt\")\n",
    "    sys.exit(1)\n",
    "\n",
    "input_file = sys.argv[1]\n",
    "\n",
    "with open(input_file, \"r\") as file:\n",
    "    pattern = file.readline().strip()\n",
    "    start_index = int(file.readline().strip())\n",
    "    end_index = int(file.readline().strip())\n"
   ]
  }
 ],
 "metadata": {
  "kernelspec": {
   "display_name": "Python 3",
   "language": "python",
   "name": "python3"
  },
  "language_info": {
   "codemirror_mode": {
    "name": "ipython",
    "version": 3
   },
   "file_extension": ".py",
   "mimetype": "text/x-python",
   "name": "python",
   "nbconvert_exporter": "python",
   "pygments_lexer": "ipython3",
   "version": "3.10.12"
  }
 },
 "nbformat": 4,
 "nbformat_minor": 2
}
